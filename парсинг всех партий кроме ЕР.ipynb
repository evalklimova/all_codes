{
 "cells": [
  {
   "cell_type": "code",
   "execution_count": 1,
   "id": "6c20b006",
   "metadata": {},
   "outputs": [
    {
     "name": "stdout",
     "output_type": "stream",
     "text": [
      "Requirement already satisfied: vk_api in /Users/evelinaklimova/anaconda3/lib/python3.11/site-packages (11.9.9)\n",
      "Requirement already satisfied: requests in /Users/evelinaklimova/anaconda3/lib/python3.11/site-packages (from vk_api) (2.31.0)\n",
      "Requirement already satisfied: charset-normalizer<4,>=2 in /Users/evelinaklimova/anaconda3/lib/python3.11/site-packages (from requests->vk_api) (2.0.4)\n",
      "Requirement already satisfied: idna<4,>=2.5 in /Users/evelinaklimova/anaconda3/lib/python3.11/site-packages (from requests->vk_api) (3.4)\n",
      "Requirement already satisfied: urllib3<3,>=1.21.1 in /Users/evelinaklimova/anaconda3/lib/python3.11/site-packages (from requests->vk_api) (1.26.16)\n",
      "Requirement already satisfied: certifi>=2017.4.17 in /Users/evelinaklimova/anaconda3/lib/python3.11/site-packages (from requests->vk_api) (2025.4.26)\n",
      "Note: you may need to restart the kernel to use updated packages.\n"
     ]
    }
   ],
   "source": [
    "pip install vk_api"
   ]
  },
  {
   "cell_type": "code",
   "execution_count": 2,
   "id": "77e114dd",
   "metadata": {},
   "outputs": [],
   "source": [
    "import vk_api\n",
    "import pandas as pd\n",
    "import datetime\n",
    "import time\n",
    "\n",
    "token = 'vk1.a.65-uMcs1kifqyz-Ep2I23RofTHf3ooZtFoNfF1uugCEwlTkOASY0OR1_6-2sTZfrD3VozRwKC_eWdYUU23-tPadPGFiczJlD5llk-2PB_BgRw850jQrMIW8WXR4X-6eApXQfG9IRURtjS3aiB9XJrT7SDsy-RU1-F71BK19z-Q1K7eJl0m7SktzaM0K-DDCDgyoJkocrD-IahoarXCtT-Q'\n",
    "\n",
    "vk_session = vk_api.VkApi(app_id='51931413', token=token)\n",
    "\n",
    "vk = vk_session.get_api()"
   ]
  },
  {
   "cell_type": "code",
   "execution_count": null,
   "id": "ce5a79a0",
   "metadata": {},
   "outputs": [],
   "source": [
    "import vk_api\n",
    "import datetime\n",
    "import time\n",
    "import pandas as pd\n",
    "\n",
    "token = 'vk1.a.oFSGuK2sfPsNIPWwQ3MtJzycqXiEVXFb9DN2-po39EHvIb3X1fqrc32O42qFl6Z3nZZFYH48pZ3K8sQLmTbuSiAAGsR7FDK0wRO27ZEFDoPhLrW5NnsW7aaPni4pvPLyBmgoHG6olnr94j8YJoV1hPESXx2akFo9NpR5JkDa4BXGXjW_cQYcP0C_gwJOkwBJ-yjjCmo-mL3RRDq5WzuKmw'\n",
    "vk_session = vk_api.VkApi(token=token)\n",
    "vk = vk_session.get_api()\n",
    "\n",
    "groups = [\n",
    "    'spravo_ross',\n",
    "    'party.newpeople',\n",
    "    'ldpr',\n",
    "    'kprf']\n",
    "\n",
    "start_date = datetime.datetime(2021, 6, 1)\n",
    "end_date = datetime.datetime(2021, 9, 19)\n",
    "\n",
    "batch_size = 100\n",
    "max_batches = 60\n",
    "all_posts = []\n",
    "\n",
    "vk_session = vk_api.VkApi(token=token)\n",
    "vk = vk_session.get_api()\n",
    "\n",
    "for group in groups:\n",
    "    offset = 0\n",
    "\n",
    "    for i in range(max_batches):\n",
    "        try:\n",
    "            res = vk.wall.get(domain=group, count=batch_size, offset=offset, v=5.131)\n",
    "        except Exception as e:\n",
    "            break\n",
    "\n",
    "        posts = res['items']\n",
    "        if not posts:\n",
    "            break\n",
    "\n",
    "        for post in posts:\n",
    "            date = datetime.datetime.fromtimestamp(post['date'])\n",
    "            if date < start_date:\n",
    "                break\n",
    "            if start_date <= date <= end_date:\n",
    "                all_posts.append({\n",
    "                    'group': group,\n",
    "                    'date': date.date(),\n",
    "                    'text': post['text']\n",
    "                })\n",
    "\n",
    "        offset += batch_size\n",
    "        time.sleep(0.4)\n",
    "\n",
    "print(f\"\\nСобрано {len(all_posts)} постов.\")\n",
    "\n",
    "df = pd.DataFrame(all_posts)\n",
    "df.to_csv('vk_posts_2021.csv', index=False, encoding='utf-8-sig')"
   ]
  }
 ],
 "metadata": {
  "kernelspec": {
   "display_name": "Python 3 (ipykernel)",
   "language": "python",
   "name": "python3"
  },
  "language_info": {
   "codemirror_mode": {
    "name": "ipython",
    "version": 3
   },
   "file_extension": ".py",
   "mimetype": "text/x-python",
   "name": "python",
   "nbconvert_exporter": "python",
   "pygments_lexer": "ipython3",
   "version": "3.11.5"
  }
 },
 "nbformat": 4,
 "nbformat_minor": 5
}
