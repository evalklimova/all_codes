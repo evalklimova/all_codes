{
 "cells": [
  {
   "cell_type": "code",
   "execution_count": null,
   "id": "1d8d1618",
   "metadata": {},
   "outputs": [],
   "source": [
    "import pandas as pd\n",
    "\n",
    "input_file = 'vk_posts_2021.csv'\n",
    "output_file = 'filtered_parties.csv'\n",
    "\n",
    "keywords = [\n",
    "    'обещаем', 'гарантируем', 'будем', 'намерены', 'предлагаем',\n",
    "    'добьемся', 'создадим', 'реализуем', 'расширим', 'повысим',\n",
    "    'введем', 'примем закон', 'внесем законопроект', 'запустим',\n",
    "    'введём', 'добьёмся', 'обеспечим', 'снизим', 'отменим',\n",
    "    \n",
    "    'обещаем', 'гарантируем', 'предлагаем', 'будем', 'создадим', 'реализуем',\n",
    "    'добьемся', 'добьёмся', 'повысим', 'введем', 'введём', 'примем закон', 'внесем законопроект',\n",
    "\n",
    "    'нужно', 'необходимо', 'важно', 'следует', 'стоит', 'планируем',\n",
    "    'пора', 'предполагаем', 'можно будет', 'намерены', 'считаем нужным',\n",
    "    'цель', 'должны', 'считаем необходимым', 'заявляем', 'хотим']\n",
    "\n",
    "df = pd.read_csv(input_file)\n",
    "\n",
    "df['text_lower'] = df['text'].str.lower()\n",
    "\n",
    "filtered = df[df['text_lower'].apply(lambda x: any(kw in str(x) for kw in keywords))]\n",
    "\n",
    "filtered.to_csv(output_file, index=False, encoding='utf-8-sig')\n",
    "\n",
    "print(f'Отфильтровано {len(filtered)} постов и сохранено в {output_file}')"
   ]
  },
  {
   "cell_type": "code",
   "execution_count": null,
   "id": "4c173972",
   "metadata": {},
   "outputs": [],
   "source": [
    "import pandas as pd\n",
    "\n",
    "df = pd.read_csv('data_new.csv', header=None, names=['text', 'date'])\n",
    "\n",
    "keywords = [\n",
    "    'обещаем', 'гарантируем', 'будем', 'намерены', 'предлагаем',\n",
    "    'добьемся', 'создадим', 'реализуем', 'расширим', 'повысим',\n",
    "    'введем', 'примем закон', 'внесем законопроект', 'запустим',\n",
    "    'введём', 'добьёмся', 'обеспечим', 'снизим', 'отменим',\n",
    "    \n",
    "    'обещаем', 'гарантируем', 'предлагаем', 'будем', 'создадим', 'реализуем',\n",
    "    'добьемся', 'добьёмся', 'повысим', 'введем', 'введём', 'примем закон', 'внесем законопроект',\n",
    "\n",
    "    'нужно', 'необходимо', 'важно', 'следует', 'стоит', 'планируем',\n",
    "    'пора', 'предполагаем', 'можно будет', 'намерены', 'считаем нужным',\n",
    "    'цель', 'должны', 'считаем необходимым', 'заявляем', 'хотим']\n",
    "\n",
    "df['text_lower'] = df['text'].str.lower()\n",
    "filtered = df[df['text_lower'].apply(lambda x: any(kw in str(x) for kw in keywords))]\n",
    "\n",
    "filtered.to_csv('er_telegram_filtered.csv', index=False, encoding='utf-8-sig')\n",
    "\n",
    "print(f\"Отфильтровано {len(filtered)} постов\")"
   ]
  }
 ],
 "metadata": {
  "kernelspec": {
   "display_name": "Python 3 (ipykernel)",
   "language": "python",
   "name": "python3"
  },
  "language_info": {
   "codemirror_mode": {
    "name": "ipython",
    "version": 3
   },
   "file_extension": ".py",
   "mimetype": "text/x-python",
   "name": "python",
   "nbconvert_exporter": "python",
   "pygments_lexer": "ipython3",
   "version": "3.11.5"
  }
 },
 "nbformat": 4,
 "nbformat_minor": 5
}
